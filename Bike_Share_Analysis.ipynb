{
 "cells": [
  {
   "cell_type": "markdown",
   "metadata": {},
   "source": [
    "# 2016 US Bike Share Activity Snapshot\n",
    "\n",
    "## Table of Contents\n",
    "- [Introduction](#intro)\n",
    "- [Posing Questions](#pose_questions)\n",
    "- [Data Collection and Wrangling](#wrangling)\n",
    "  - [Condensing the Trip Data](#condensing)\n",
    "- [Exploratory Data Analysis](#eda)\n",
    "  - [Statistics](#statistics)\n",
    "  - [Visualizations](#visualizations)\n",
    "- [Performing Your Own Analysis](#eda_continued)\n",
    "- [Conclusions](#conclusions)\n",
    "\n",
    "<a id='intro'></a>\n",
    "## Introduction\n",
    "\n",
    "> **Tip**: Quoted sections like this will provide helpful instructions on how to navigate and use a Jupyter notebook.\n",
    "\n",
    "Over the past decade, bicycle-sharing systems have been growing in number and popularity in cities across the world. Bicycle-sharing systems allow users to rent bicycles for short trips, typically 30 minutes or less. Thanks to the rise in information technologies, it is easy for a user of the system to access a dock within the system to unlock or return bicycles. These technologies also provide a wealth of data that can be used to explore how these bike-sharing systems are used.\n",
    "\n",
    "In this project, you will perform an exploratory analysis on data provided by [Motivate](https://www.motivateco.com/), a bike-share system provider for many major cities in the United States. You will compare the system usage between three large cities: New York City, Chicago, and Washington, DC. You will also see if there are any differences within each system for those users that are registered, regular users and those users that are short-term, casual users."
   ]
  },
  {
   "cell_type": "markdown",
   "metadata": {},
   "source": [
    "<a id='pose_questions'></a>\n",
    "## Posing Questions\n",
    "\n",
    "Before looking at the bike sharing data, you should start by asking questions you might want to understand about the bike share data. Consider, for example, if you were working for Motivate. What kinds of information would you want to know about in order to make smarter business decisions? If you were a user of the bike-share service, what factors might influence how you would want to use the service?\n",
    "\n",
    "**Question 1**: Write at least two questions related to bike sharing that you think could be answered by data.\n",
    "\n",
    "**Answer**: Before looking at the bike sharing data, these are some of the questions that are coming to mind:\n",
    "\n",
    "    1) Which are most popular stations to pick bikes in each city?    \n",
    "    2) What is the most popular age group for bike users?    \n",
    "    3) What is the average time frame for which, bikes are used?    \n",
    "    4) Which are the most popular days for bike use?\n",
    "\n",
    "> **Tip**: If you double click on this cell, you will see the text change so that all of the formatting is removed. This allows you to edit this block of text. This block of text is written using [Markdown](http://daringfireball.net/projects/markdown/syntax), which is a way to format text using headers, links, italics, and many other options using a plain-text syntax. You will also use Markdown later in the Nanodegree program. Use **Shift** + **Enter** or **Shift** + **Return** to run the cell and show its rendered form."
   ]
  },
  {
   "cell_type": "markdown",
   "metadata": {},
   "source": [
    "<a id='wrangling'></a>\n",
    "## Data Collection and Wrangling\n",
    "\n",
    "Now it's time to collect and explore our data. In this project, we will focus on the record of individual trips taken in 2016 from our selected cities: New York City, Chicago, and Washington, DC. Each of these cities has a page where we can freely download the trip data.:\n",
    "\n",
    "- New York City (Citi Bike): [Link](https://www.citibikenyc.com/system-data)\n",
    "- Chicago (Divvy): [Link](https://www.divvybikes.com/system-data)\n",
    "- Washington, DC (Capital Bikeshare): [Link](https://www.capitalbikeshare.com/system-data)\n",
    "\n",
    "If you visit these pages, you will notice that each city has a different way of delivering its data. Chicago updates with new data twice a year, Washington DC is quarterly, and New York City is monthly. **However, you do not need to download the data yourself.** The data has already been collected for you in the `/data/` folder of the project files. While the original data for 2016 is spread among multiple files for each city, the files in the `/data/` folder collect all of the trip data for the year into one file per city. Some data wrangling of inconsistencies in timestamp format within each city has already been performed for you. In addition, a random 2% sample of the original data is taken to make the exploration more manageable. \n",
    "\n",
    "**Question 2**: However, there is still a lot of data for us to investigate, so it's a good idea to start off by looking at one entry from each of the cities we're going to analyze. Run the first code cell below to load some packages and functions that you'll be using in your analysis. Then, complete the second code cell to print out the first trip recorded from each of the cities (the second line of each data file).\n",
    "\n",
    "> **Tip**: You can run a code cell like you formatted Markdown cells above by clicking on the cell and using the keyboard shortcut **Shift** + **Enter** or **Shift** + **Return**. Alternatively, a code cell can be executed using the **Play** button in the toolbar after selecting it. While the cell is running, you will see an asterisk in the message to the left of the cell, i.e. `In [*]:`. The asterisk will change into a number to show that execution has completed, e.g. `In [1]`. If there is output, it will show up as `Out [1]:`, with an appropriate number to match the \"In\" number."
   ]
  },
  {
   "cell_type": "code",
   "execution_count": 1,
   "metadata": {},
   "outputs": [],
   "source": [
    "## import all necessary packages and functions.\n",
    "import csv # read and write csv files\n",
    "from datetime import datetime # operations to parse dates\n",
    "from pprint import pprint # use to print data structures like dictionaries in\n",
    "                          # a nicer way than the base print function."
   ]
  },
  {
   "cell_type": "code",
   "execution_count": 2,
   "metadata": {},
   "outputs": [
    {
     "name": "stdout",
     "output_type": "stream",
     "text": [
      "\n",
      "City: NYC\n",
      "OrderedDict([('tripduration', '839'),\n",
      "             ('starttime', '1/1/2016 00:09:55'),\n",
      "             ('stoptime', '1/1/2016 00:23:54'),\n",
      "             ('start station id', '532'),\n",
      "             ('start station name', 'S 5 Pl & S 4 St'),\n",
      "             ('start station latitude', '40.710451'),\n",
      "             ('start station longitude', '-73.960876'),\n",
      "             ('end station id', '401'),\n",
      "             ('end station name', 'Allen St & Rivington St'),\n",
      "             ('end station latitude', '40.72019576'),\n",
      "             ('end station longitude', '-73.98997825'),\n",
      "             ('bikeid', '17109'),\n",
      "             ('usertype', 'Customer'),\n",
      "             ('birth year', ''),\n",
      "             ('gender', '0')])\n",
      "\n",
      "City: Chicago\n",
      "OrderedDict([('trip_id', '9080545'),\n",
      "             ('starttime', '3/31/2016 23:30'),\n",
      "             ('stoptime', '3/31/2016 23:46'),\n",
      "             ('bikeid', '2295'),\n",
      "             ('tripduration', '926'),\n",
      "             ('from_station_id', '156'),\n",
      "             ('from_station_name', 'Clark St & Wellington Ave'),\n",
      "             ('to_station_id', '166'),\n",
      "             ('to_station_name', 'Ashland Ave & Wrightwood Ave'),\n",
      "             ('usertype', 'Subscriber'),\n",
      "             ('gender', 'Male'),\n",
      "             ('birthyear', '1990')])\n",
      "\n",
      "City: Washington\n",
      "OrderedDict([('Duration (ms)', '427387'),\n",
      "             ('Start date', '3/31/2016 22:57'),\n",
      "             ('End date', '3/31/2016 23:04'),\n",
      "             ('Start station number', '31602'),\n",
      "             ('Start station', 'Park Rd & Holmead Pl NW'),\n",
      "             ('End station number', '31207'),\n",
      "             ('End station', 'Georgia Ave and Fairmont St NW'),\n",
      "             ('Bike number', 'W20842'),\n",
      "             ('Member Type', 'Registered')])\n"
     ]
    }
   ],
   "source": [
    "def print_first_point(filename):\n",
    "    \"\"\"\n",
    "    This function prints and returns the first data point (second row) from\n",
    "    a csv file that includes a header row.\n",
    "    \"\"\"\n",
    "    # print city name for reference\n",
    "    city = filename.split('-')[0].split('/')[-1]\n",
    "    print('\\nCity: {}'.format(city))\n",
    "    \n",
    "    with open(filename, 'r') as f_in:\n",
    "        ## TODO: Use the csv library to set up a DictReader object. ##\n",
    "        ## see https://docs.python.org/3/library/csv.html           ##\n",
    "        trip_reader =csv.DictReader(f_in)\n",
    "                \n",
    "        ## TODO: Use a function on the DictReader object to read the     ##\n",
    "        ## first trip from the data file and store it in a variable.     ##\n",
    "        ## see https://docs.python.org/3/library/csv.html#reader-objects ##\n",
    "        first_trip = next(trip_reader)\n",
    "        \n",
    "        ## TODO: Use the pprint library to print the first trip. ##\n",
    "        ## see https://docs.python.org/3/library/pprint.html     ##\n",
    "        pprint(first_trip)\n",
    "        \n",
    "    # output city name and first trip for later testing\n",
    "    return (city, first_trip)\n",
    "\n",
    "# list of files for each city\n",
    "data_files = ['./data/NYC-CitiBike-2016.csv',\n",
    "              './data/Chicago-Divvy-2016.csv',\n",
    "              './data/Washington-CapitalBikeshare-2016.csv',]\n",
    "\n",
    "# print the first trip from each file, store in dictionary\n",
    "example_trips = {}\n",
    "for data_file in data_files:\n",
    "    city, first_trip = print_first_point(data_file)\n",
    "    example_trips[city] = first_trip"
   ]
  },
  {
   "cell_type": "markdown",
   "metadata": {},
   "source": [
    "If everything has been filled out correctly, you should see below the printout of each city name (which has been parsed from the data file name) that the first trip has been parsed in the form of a dictionary. When you set up a `DictReader` object, the first row of the data file is normally interpreted as column names. Every other row in the data file will use those column names as keys, as a dictionary is generated for each row.\n",
    "\n",
    "This will be useful since we can refer to quantities by an easily-understandable label instead of just a numeric index. For example, if we have a trip stored in the variable `row`, then we would rather get the trip duration from `row['duration']` instead of `row[0]`.\n",
    "\n",
    "<a id='condensing'></a>\n",
    "### Condensing the Trip Data\n",
    "\n",
    "It should also be observable from the above printout that each city provides different information. Even where the information is the same, the column names and formats are sometimes different. To make things as simple as possible when we get to the actual exploration, we should trim and clean the data. Cleaning the data makes sure that the data formats across the cities are consistent, while trimming focuses only on the parts of the data we are most interested in to make the exploration easier to work with.\n",
    "\n",
    "You will generate new data files with five values of interest for each trip: trip duration, starting month, starting hour, day of the week, and user type. Each of these may require additional wrangling depending on the city:\n",
    "\n",
    "- **Duration**: This has been given to us in seconds (New York, Chicago) or milliseconds (Washington). A more natural unit of analysis will be if all the trip durations are given in terms of minutes.\n",
    "- **Month**, **Hour**, **Day of Week**: Ridership volume is likely to change based on the season, time of day, and whether it is a weekday or weekend. Use the start time of the trip to obtain these values. The New York City data includes the seconds in their timestamps, while Washington and Chicago do not. The [`datetime`](https://docs.python.org/3/library/datetime.html) package will be very useful here to make the needed conversions.\n",
    "- **User Type**: It is possible that users who are subscribed to a bike-share system will have different patterns of use compared to users who only have temporary passes. Washington divides its users into two types: 'Registered' for users with annual, monthly, and other longer-term subscriptions, and 'Casual', for users with 24-hour, 3-day, and other short-term passes. The New York and Chicago data uses 'Subscriber' and 'Customer' for these groups, respectively. For consistency, you will convert the Washington labels to match the other two.\n",
    "\n",
    "\n",
    "**Question 3a**: Complete the helper functions in the code cells below to address each of the cleaning tasks described above."
   ]
  },
  {
   "cell_type": "code",
   "execution_count": 3,
   "metadata": {},
   "outputs": [],
   "source": [
    "def duration_in_mins(datum, city):\n",
    "    \"\"\"\n",
    "    Takes as input a dictionary containing info about a single trip (datum) and\n",
    "    its origin city (city) and returns the trip duration in units of minutes.\n",
    "    \n",
    "    Remember that Washington is in terms of milliseconds while Chicago and NYC\n",
    "    are in terms of seconds. \n",
    "    \n",
    "    HINT: The csv module reads in all of the data as strings, including numeric\n",
    "    values. You will need a function to convert the strings into an appropriate\n",
    "    numeric type when making your transformations.\n",
    "    see https://docs.python.org/3/library/functions.html\n",
    "    \"\"\"\n",
    "    \n",
    "    # YOUR CODE HERE\n",
    "    duration =0    \n",
    "    if city == 'NYC':\n",
    "        duration = float(datum['tripduration'])        \n",
    "    elif city == 'Chicago':\n",
    "        duration = float(datum['tripduration'])\n",
    "    elif city == 'Washington':\n",
    "        duration = float(datum['Duration (ms)'])/1000\n",
    "    \n",
    "    duration = round(duration/60,4)\n",
    "    return duration\n",
    "\n",
    "\n",
    "# Some tests to check that your code works. There should be no output if all of\n",
    "# the assertions pass. The `example_trips` dictionary was obtained from when\n",
    "# you printed the first trip from each of the original data files.\n",
    "tests = {'NYC': 13.9833,\n",
    "         'Chicago': 15.4333,\n",
    "         'Washington': 7.1231}\n",
    "\n",
    "for city in tests:\n",
    "    assert abs(duration_in_mins(example_trips[city], city) - tests[city]) < .001"
   ]
  },
  {
   "cell_type": "code",
   "execution_count": 4,
   "metadata": {},
   "outputs": [],
   "source": [
    "def time_of_trip(datum, city):\n",
    "    \"\"\"\n",
    "    Takes as input a dictionary containing info about a single trip (datum) and\n",
    "    its origin city (city) and returns the month, hour, and day of the week in\n",
    "    which the trip was made.\n",
    "    \n",
    "    Remember that NYC includes seconds, while Washington and Chicago do not.\n",
    "    \n",
    "    HINT: You should use the datetime module to parse the original date\n",
    "    strings into a format that is useful for extracting the desired information.\n",
    "    see https://docs.python.org/3/library/datetime.html#strftime-and-strptime-behavior\n",
    "    \"\"\"\n",
    "    \n",
    "    # YOUR CODE HERE\n",
    "    trip_start_time = None\n",
    "    month = None\n",
    "    hour = None\n",
    "    day_of_week = None\n",
    "    if city == 'NYC':\n",
    "        trip_start_time = datetime.strptime(datum['starttime'], '%m/%d/%Y %H:%M:%S')   \n",
    "    elif city == 'Chicago':\n",
    "        trip_start_time = trip_start_time = datetime.strptime(datum['starttime'], '%m/%d/%Y %H:%M')\n",
    "    elif city == 'Washington':\n",
    "        trip_start_time = datetime.strptime(datum['Start date'], '%m/%d/%Y %H:%M')\n",
    "\n",
    "    if trip_start_time != None:\n",
    "        month = trip_start_time.month\n",
    "        hour = trip_start_time.hour\n",
    "        day_of_week = trip_start_time.strftime('%A')    \n",
    "\n",
    "    #print (\"city: {0}, month: {1}, hour: {2}, day_of_week: {3}\".format(city,month, hour, day_of_week))\n",
    "    return (month, hour, day_of_week)\n",
    "\n",
    "\n",
    "# Some tests to check that your code works. There should be no output if all of\n",
    "# the assertions pass. The `example_trips` dictionary was obtained from when\n",
    "# you printed the first trip from each of the original data files.\n",
    "tests = {'NYC': (1, 0, 'Friday'),\n",
    "         'Chicago': (3, 23, 'Thursday'),\n",
    "         'Washington': (3, 22, 'Thursday')}\n",
    "\n",
    "for city in tests:\n",
    "    assert time_of_trip(example_trips[city], city) == tests[city]"
   ]
  },
  {
   "cell_type": "code",
   "execution_count": 5,
   "metadata": {},
   "outputs": [],
   "source": [
    "def type_of_user(datum, city):\n",
    "    \"\"\"\n",
    "    Takes as input a dictionary containing info about a single trip (datum) and\n",
    "    its origin city (city) and returns the type of system user that made the\n",
    "    trip.\n",
    "    \n",
    "    Remember that Washington has different category names compared to Chicago\n",
    "    and NYC. \n",
    "    \"\"\"\n",
    "    \n",
    "    # YOUR CODE HERE\n",
    "    user_type =\"\"\n",
    "    if city != 'Washington':\n",
    "        user_type = datum['usertype']\n",
    "    else:\n",
    "        if datum['Member Type'] == 'Registered':\n",
    "            user_type = 'Subscriber'\n",
    "        else:\n",
    "            user_type = 'Customer'\n",
    "    #print (\"city: {0}, user_type: {1}\".format(city, user_type))\n",
    "    return user_type\n",
    "\n",
    "\n",
    "# Some tests to check that your code works. There should be no output if all of\n",
    "# the assertions pass. The `example_trips` dictionary was obtained from when\n",
    "# you printed the first trip from each of the original data files.\n",
    "tests = {'NYC': 'Customer',\n",
    "         'Chicago': 'Subscriber',\n",
    "         'Washington': 'Subscriber'}\n",
    "\n",
    "for city in tests:\n",
    "    assert type_of_user(example_trips[city], city) == tests[city]"
   ]
  },
  {
   "cell_type": "markdown",
   "metadata": {},
   "source": [
    "**Question 3b**: Now, use the helper functions you wrote above to create a condensed data file for each city consisting only of the data fields indicated above. In the `/examples/` folder, you will see an example datafile from the [Bay Area Bike Share](http://www.bayareabikeshare.com/open-data) before and after conversion. Make sure that your output is formatted to be consistent with the example file."
   ]
  },
  {
   "cell_type": "code",
   "execution_count": 6,
   "metadata": {},
   "outputs": [],
   "source": [
    "def condense_data(in_file, out_file, city):\n",
    "    \"\"\"\n",
    "    This function takes full data from the specified input file\n",
    "    and writes the condensed data to a specified output file. The city\n",
    "    argument determines how the input file will be parsed.\n",
    "    \n",
    "    HINT: See the cell below to see how the arguments are structured!\n",
    "    \"\"\"\n",
    "    \n",
    "    with open(out_file, 'w', newline='') as f_out, open(in_file, 'r') as f_in:\n",
    "        # set up csv DictWriter object - writer requires column names for the\n",
    "        # first row as the \"fieldnames\" argument\n",
    "        out_colnames = ['duration', 'month', 'hour', 'day_of_week', 'user_type']        \n",
    "        trip_writer = csv.DictWriter(f_out, fieldnames = out_colnames)\n",
    "        trip_writer.writeheader()\n",
    "        \n",
    "        ## TODO: set up csv DictReader object ##\n",
    "        trip_reader = csv.DictReader(f_in)\n",
    "\n",
    "        # collect data from and process each row\n",
    "        for row in trip_reader:\n",
    "            # set up a dictionary to hold the values for the cleaned and trimmed\n",
    "            # data point\n",
    "            new_point = {}\n",
    "\n",
    "            ## TODO: use the helper functions to get the cleaned data from  ##\n",
    "            ## the original data dictionaries.                              ##\n",
    "            ## Note that the keys for the new_point dictionary should match ##\n",
    "            ## the column names set in the DictWriter object above.         ##\n",
    "            new_point['duration'] = duration_in_mins(row, city)\n",
    "            new_point['month'],new_point['hour'],new_point['day_of_week'] = time_of_trip(row, city)\n",
    "            new_point['user_type'] = type_of_user(row, city)\n",
    "\n",
    "            ## TODO: write the processed information to the output file.     ##\n",
    "            ## see https://docs.python.org/3/library/csv.html#writer-objects ##\n",
    "            trip_writer.writerow(new_point)\n",
    "            "
   ]
  },
  {
   "cell_type": "code",
   "execution_count": 7,
   "metadata": {},
   "outputs": [
    {
     "name": "stdout",
     "output_type": "stream",
     "text": [
      "\n",
      "City: Washington\n",
      "OrderedDict([('duration', '7.1231'),\n",
      "             ('month', '3'),\n",
      "             ('hour', '22'),\n",
      "             ('day_of_week', 'Thursday'),\n",
      "             ('user_type', 'Subscriber')])\n",
      "\n",
      "City: Chicago\n",
      "OrderedDict([('duration', '15.4333'),\n",
      "             ('month', '3'),\n",
      "             ('hour', '23'),\n",
      "             ('day_of_week', 'Thursday'),\n",
      "             ('user_type', 'Subscriber')])\n",
      "\n",
      "City: NYC\n",
      "OrderedDict([('duration', '13.9833'),\n",
      "             ('month', '1'),\n",
      "             ('hour', '0'),\n",
      "             ('day_of_week', 'Friday'),\n",
      "             ('user_type', 'Customer')])\n"
     ]
    }
   ],
   "source": [
    "# Run this cell to check your work\n",
    "city_info = {'Washington': {'in_file': './data/Washington-CapitalBikeshare-2016.csv',\n",
    "                            'out_file': './data/Washington-2016-Summary.csv'},\n",
    "             'Chicago': {'in_file': './data/Chicago-Divvy-2016.csv',\n",
    "                         'out_file': './data/Chicago-2016-Summary.csv'},\n",
    "             'NYC': {'in_file': './data/NYC-CitiBike-2016.csv',\n",
    "                     'out_file': './data/NYC-2016-Summary.csv'}}\n",
    "\n",
    "for city, filenames in city_info.items():\n",
    "    condense_data(filenames['in_file'], filenames['out_file'], city)\n",
    "    print_first_point(filenames['out_file'])"
   ]
  },
  {
   "cell_type": "markdown",
   "metadata": {},
   "source": [
    "> **Tip**: If you save a jupyter Notebook, the output from running code blocks will also be saved. However, the state of your workspace will be reset once a new session is started. Make sure that you run all of the necessary code blocks from your previous session to reestablish variables and functions before picking up where you last left off.\n",
    "\n",
    "<a id='eda'></a>\n",
    "## Exploratory Data Analysis\n",
    "\n",
    "Now that you have the data collected and wrangled, you're ready to start exploring the data. In this section you will write some code to compute descriptive statistics from the data. You will also be introduced to the `matplotlib` library to create some basic histograms of the data.\n",
    "\n",
    "<a id='statistics'></a>\n",
    "### Statistics\n",
    "\n",
    "First, let's compute some basic counts. The first cell below contains a function that uses the csv module to iterate through a provided data file, returning the number of trips made by subscribers and customers. The second cell runs this function on the example Bay Area data in the `/examples/` folder. Modify the cells to answer the question below.\n",
    "\n",
    "**Question 4a**: Which city has the highest number of trips? Which city has the highest proportion of trips made by subscribers? Which city has the highest proportion of trips made by short-term customers?\n",
    "\n",
    "**Answer**: NYC has highest number of trips. NYC has highest proportion of trips made by subscribers. Chicago has the highest porportion of trips made by short-term customers."
   ]
  },
  {
   "cell_type": "code",
   "execution_count": 12,
   "metadata": {},
   "outputs": [],
   "source": [
    "def number_of_trips(filename):\n",
    "    \"\"\"\n",
    "    This function reads in a file with trip data and reports the number of\n",
    "    trips made by subscribers, customers, and total overall.\n",
    "    \"\"\"\n",
    "    with open(filename, 'r') as f_in:\n",
    "        # set up csv reader object\n",
    "        trip_reader = csv.DictReader(f_in)\n",
    "        \n",
    "        # initialize count variables\n",
    "        n_subscribers = 0\n",
    "        n_customers = 0\n",
    "        \n",
    "        # tally up ride types\n",
    "        for row in trip_reader:\n",
    "            if row['user_type'] == 'Subscriber':\n",
    "                n_subscribers += 1\n",
    "            else:\n",
    "                n_customers += 1\n",
    "        \n",
    "        # compute total number of rides\n",
    "        n_total = n_subscribers + n_customers\n",
    "        \n",
    "        # return tallies as a tuple\n",
    "        return(n_subscribers, n_customers, n_total)"
   ]
  },
  {
   "cell_type": "code",
   "execution_count": 10,
   "metadata": {},
   "outputs": [
    {
     "name": "stdout",
     "output_type": "stream",
     "text": [
      "City: Washington \n",
      "Subscribers: 51753\n",
      "Customers: 14573\n",
      "Total Trips: 66326\n",
      "Subscriber proportion: 0.7803\n",
      "Customer proportion: 0.2197\n",
      "\n",
      "City: Chicago \n",
      "Subscribers: 54982\n",
      "Customers: 17149\n",
      "Total Trips: 72131\n",
      "Subscriber proportion: 0.7623\n",
      "Customer proportion: 0.2377\n",
      "\n",
      "City: NYC \n",
      "Subscribers: 245896\n",
      "Customers: 30902\n",
      "Total Trips: 276798\n",
      "Subscriber proportion: 0.8884\n",
      "Customer proportion: 0.1116\n",
      "\n"
     ]
    }
   ],
   "source": [
    "## Modify this and the previous cell to answer Question 4a. Remember to run ##\n",
    "## the function on the cleaned data files you created from Question 3.      ##\n",
    "\n",
    "#data_file = './examples/BayArea-Y3-Summary.csv'\n",
    "#print(number_of_trips(data_file))\n",
    "city_info = {'Washington':'./data/Washington-2016-Summary.csv',\n",
    "             'Chicago': './data/Chicago-2016-Summary.csv',\n",
    "             'NYC': './data/NYC-2016-Summary.csv'}\n",
    "for city, data_file in city_info.items():    \n",
    "    n_subscribers, n_customers, n_total = number_of_trips(data_file)\n",
    "    n_proportion_subscribers = round(n_subscribers/n_total, 4)\n",
    "    n_proportion_customers = round(n_customers/n_total,4)\n",
    "    print (\"City: {0} \".format(city))\n",
    "    print (\"Subscribers: {0}\".format(n_subscribers))\n",
    "    print (\"Customers: {0}\".format(n_customers))\n",
    "    print (\"Total Trips: {0}\".format(n_total))\n",
    "    print (\"Subscriber proportion: {0}\".format(n_proportion_subscribers))\n",
    "    print (\"Customer proportion: {0}\".format(n_proportion_customers))\n",
    "    print ()"
   ]
  },
  {
   "cell_type": "markdown",
   "metadata": {},
   "source": [
    "> **Tip**: In order to add additional cells to a notebook, you can use the \"Insert Cell Above\" and \"Insert Cell Below\" options from the menu bar above. There is also an icon in the toolbar for adding new cells, with additional icons for moving the cells up and down the document. By default, new cells are of the code type; you can also specify the cell type (e.g. Code or Markdown) of selected cells from the Cell menu or the dropdown in the toolbar.\n",
    "\n",
    "Now, you will write your own code to continue investigating properties of the data.\n",
    "\n",
    "**Question 4b**: Bike-share systems are designed for riders to take short trips. Most of the time, users are allowed to take trips of 30 minutes or less with no additional charges, with overage charges made for trips of longer than that duration. What is the average trip length for each city? What proportion of rides made in each city are longer than 30 minutes?\n",
    "\n",
    "**Answer**: Answers for these questions are:"
   ]
  },
  {
   "cell_type": "code",
   "execution_count": 29,
   "metadata": {},
   "outputs": [],
   "source": [
    "def get_average(data_list):\n",
    "    \"\"\"\n",
    "    This function calculates the average from a list of values\n",
    "    \"\"\"\n",
    "    return len(data_list),round(sum(data_list) / len(data_list), 4)\n",
    "\n",
    "def get_overtime_proportion(data_list):\n",
    "    \"\"\"\n",
    "    This funtion calculate proportion of durtions greater than 30 minutes\n",
    "    \"\"\"\n",
    "    n_total_30 = 0\n",
    "    for duration in data_list:\n",
    "        if duration > 30:\n",
    "            n_total_30 += 1\n",
    "    return round(n_total_30/len(data_list), 4)\n",
    "    \n",
    "def trip_overtime_proportion(filename):\n",
    "    \"\"\"\n",
    "    This function reads in a file with trip data and reports average duration\n",
    "    and proportion of trip longer than 30 mins.\n",
    "    \"\"\"\n",
    "    with open(filename, 'r') as f_in:\n",
    "        # set up csv reader object\n",
    "        trip_reader = csv.DictReader(f_in)\n",
    "        n_durations =[]\n",
    "        n_total_30 = 0\n",
    "        for row in trip_reader:\n",
    "            trip_duration = float(row ['duration'])\n",
    "            n_durations.append(trip_duration)\n",
    "            if trip_duration > 30:\n",
    "                n_total_30 += 1       \n",
    "        \n",
    "        n_total, n_average = get_average(n_durations)\n",
    "\n",
    "        n_proportion_30 = get_overtime_proportion(n_durations)\n",
    "\n",
    "        return n_total,n_average, n_proportion_30\n"
   ]
  },
  {
   "cell_type": "code",
   "execution_count": 30,
   "metadata": {
    "scrolled": true
   },
   "outputs": [
    {
     "name": "stdout",
     "output_type": "stream",
     "text": [
      "City: Washington \n",
      "Total trips: 66326\n",
      "Average trip length: 18.9329\n",
      "Proportion over 30 mins: 0.1084\n",
      "\n",
      "City: Chicago \n",
      "Total trips: 72131\n",
      "Average trip length: 16.5636\n",
      "Proportion over 30 mins: 0.0833\n",
      "\n",
      "City: NYC \n",
      "Total trips: 276798\n",
      "Average trip length: 15.8126\n",
      "Proportion over 30 mins: 0.073\n",
      "\n"
     ]
    }
   ],
   "source": [
    "## Use this and additional cells to answer Question 4b.                 ##\n",
    "##                                                                      ##\n",
    "## HINT: The csv module reads in all of the data as strings, including  ##\n",
    "## numeric values. You will need a function to convert the strings      ##\n",
    "## into an appropriate numeric type before you aggregate data.          ##\n",
    "## TIP: For the Bay Area example, the average trip length is 14 minutes ##\n",
    "## and 3.5% of trips are longer than 30 minutes.                        ##\n",
    "\n",
    "city_info = {'Washington':'./data/Washington-2016-Summary.csv',\n",
    "             'Chicago': './data/Chicago-2016-Summary.csv',\n",
    "             'NYC': './data/NYC-2016-Summary.csv'}\n",
    "for city, data_file in city_info.items():    \n",
    "    n_total, n_average, n_proportion_30 = trip_overtime_proportion(data_file)\n",
    "\n",
    "    print (\"City: {0} \".format(city))\n",
    "    print (\"Total trips: {0}\".format(n_total))\n",
    "    print (\"Average trip length: {0}\".format(n_average))\n",
    "    print (\"Proportion over 30 mins: {0}\".format(n_proportion_30))\n",
    "    print ()"
   ]
  },
  {
   "cell_type": "markdown",
   "metadata": {},
   "source": [
    "**Question 4c**: Dig deeper into the question of trip duration based on ridership. Choose one city. Within that city, which type of user takes longer rides on average: Subscribers or Customers?\n",
    "\n",
    "**Answer**: If we see data for Washington, then average trip length for subscribers is 12.5281, while average trip length for customers is way, high 41.678. "
   ]
  },
  {
   "cell_type": "code",
   "execution_count": 19,
   "metadata": {},
   "outputs": [],
   "source": [
    "def trip_average_by_ridertype(filename):\n",
    "    \"\"\"\n",
    "    This function reads in a file with trip data and reports the number of\n",
    "    trips made by subscribers, customers, and total overall.\n",
    "    \"\"\"    \n",
    "    \n",
    "    with open(filename, 'r') as f_in:\n",
    "        # set up csv reader object\n",
    "        trip_reader = csv.DictReader(f_in)\n",
    "        \n",
    "        # initialize count variables\n",
    "        n_subscriber_durations = []\n",
    "        n_customer_durations = []\n",
    "        \n",
    "        # tally up ride types\n",
    "        for row in trip_reader:\n",
    "            trip_duration = float(row ['duration'])\n",
    "            if row['user_type'] == 'Subscriber':\n",
    "                n_subscriber_durations.append(trip_duration)\n",
    "            else:\n",
    "                n_customer_durations.append(trip_duration)\n",
    "        \n",
    "        \n",
    "        n_subscribers, n_subscriber_average = get_average(n_subscriber_durations)\n",
    "        n_customers, n_customer_average = get_average(n_customer_durations)\n",
    "        \n",
    "        return(n_subscribers, n_subscriber_average, n_customers, n_customer_average)\n"
   ]
  },
  {
   "cell_type": "code",
   "execution_count": 20,
   "metadata": {},
   "outputs": [
    {
     "name": "stdout",
     "output_type": "stream",
     "text": [
      "City: Washington \n",
      "Subscribers: 51753\n",
      "Average trip length - Subscribers: 12.5281\n",
      "Customers: 14573\n",
      "Average trip length - Customers: 41.678\n",
      "\n",
      "City: Chicago \n",
      "Subscribers: 54982\n",
      "Average trip length - Subscribers: 12.0672\n",
      "Customers: 17149\n",
      "Average trip length - Customers: 30.9798\n",
      "\n",
      "City: NYC \n",
      "Subscribers: 245896\n",
      "Average trip length - Subscribers: 13.6808\n",
      "Customers: 30902\n",
      "Average trip length - Customers: 32.776\n",
      "\n"
     ]
    }
   ],
   "source": [
    "## Use this and additional cells to answer Question 4c. If you have    ##\n",
    "## not done so yet, consider revising some of your previous code to    ##\n",
    "## make use of functions for reusability.                              ##\n",
    "##                                                                     ##\n",
    "## TIP: For the Bay Area example data, you should find the average     ##\n",
    "## Subscriber trip duration to be 9.5 minutes and the average Customer ##\n",
    "## trip duration to be 54.6 minutes. Do the other cities have this     ##\n",
    "## level of difference?                                                ##\n",
    "city_info = {'Washington':'./data/Washington-2016-Summary.csv',\n",
    "             'Chicago': './data/Chicago-2016-Summary.csv',\n",
    "             'NYC': './data/NYC-2016-Summary.csv'}\n",
    "for city, data_file in city_info.items():    \n",
    "    n_subscribers, n_subscriber_average, n_customers, n_customer_average = trip_average_by_ridertype(data_file)\n",
    "    print (\"City: {0} \".format(city))\n",
    "    print (\"Subscribers: {0}\".format(n_subscribers))\n",
    "    print (\"Average trip length - Subscribers: {0}\".format(n_subscriber_average))\n",
    "    print (\"Customers: {0}\".format(n_customers))\n",
    "    print (\"Average trip length - Customers: {0}\".format(n_customer_average))\n",
    "    print ()\n",
    "\n"
   ]
  },
  {
   "cell_type": "markdown",
   "metadata": {},
   "source": [
    "<a id='visualizations'></a>\n",
    "### Visualizations\n",
    "\n",
    "The last set of values that you computed should have pulled up an interesting result. While the mean trip time for Subscribers is well under 30 minutes, the mean trip time for Customers is actually _above_ 30 minutes! It will be interesting for us to look at how the trip times are distributed. In order to do this, a new library will be introduced here, `matplotlib`. Run the cell below to load the library and to generate an example plot."
   ]
  },
  {
   "cell_type": "code",
   "execution_count": 22,
   "metadata": {},
   "outputs": [
    {
     "data": {
      "image/png": "[encoded data removed]",
      "text/plain": [
       "<Figure size 432x288 with 1 Axes>"
      ]
     },
     "metadata": {},
     "output_type": "display_data"
    }
   ],
   "source": [
    "# load library\n",
    "import matplotlib.pyplot as plt\n",
    "\n",
    "# this is a 'magic word' that allows for plots to be displayed\n",
    "# inline with the notebook. If you want to know more, see:\n",
    "# http://ipython.readthedocs.io/en/stable/interactive/magics.html\n",
    "%matplotlib inline \n",
    "\n",
    "# example histogram, data taken from bay area sample\n",
    "data = [ 7.65,  8.92,  7.42,  5.50, 16.17,  4.20,  8.98,  9.62, 11.48, 14.33,\n",
    "        19.02, 21.53,  3.90,  7.97,  2.62,  2.67,  3.08, 14.40, 12.90,  7.83,\n",
    "        25.12,  8.30,  4.93, 12.43, 10.60,  6.17, 10.88,  4.78, 15.15,  3.53,\n",
    "         9.43, 13.32, 11.72,  9.85,  5.22, 15.10,  3.95,  3.17,  8.78,  1.88,\n",
    "         4.55, 12.68, 12.38,  9.78,  7.63,  6.45, 17.38, 11.90, 11.52,  8.63,]\n",
    "plt.hist(data)\n",
    "plt.title('Distribution of Trip Durations')\n",
    "plt.xlabel('Duration (m)')\n",
    "plt.show()"
   ]
  },
  {
   "cell_type": "markdown",
   "metadata": {},
   "source": [
    "In the above cell, we collected fifty trip times in a list, and passed this list as the first argument to the `.hist()` function. This function performs the computations and creates plotting objects for generating a histogram, but the plot is actually not rendered until the `.show()` function is executed. The `.title()` and `.xlabel()` functions provide some labeling for plot context.\n",
    "\n",
    "You will now use these functions to create a histogram of the trip times for the city you selected in question 4c. Don't separate the Subscribers and Customers for now: just collect all of the trip times and plot them."
   ]
  },
  {
   "cell_type": "code",
   "execution_count": 23,
   "metadata": {},
   "outputs": [],
   "source": [
    "def trip_durations(filename, usertype=None, limit =None):\n",
    "    \"\"\"\n",
    "    This function reads in a file with trip data and returns durations in list\n",
    "    \"\"\"    \n",
    "    n_durations = []\n",
    "    with open(filename, 'r') as f_in:\n",
    "        # set up csv reader object\n",
    "        trip_reader = csv.DictReader(f_in)\n",
    "                 \n",
    "        for row in trip_reader:\n",
    "            trip_duration = float(row ['duration'])\n",
    "            if usertype:\n",
    "                if row['user_type'] == usertype:\n",
    "                    if limit:\n",
    "                        if trip_duration <= limit:\n",
    "                            n_durations.append(trip_duration)\n",
    "                    else:\n",
    "                         n_durations.append(trip_duration)\n",
    "            else:\n",
    "                if limit:\n",
    "                    if trip_duration <= limit:\n",
    "                        n_durations.append(trip_duration)\n",
    "                else:\n",
    "                    n_durations.append(trip_duration)\n",
    "    return n_durations"
   ]
  },
  {
   "cell_type": "code",
   "execution_count": 24,
   "metadata": {},
   "outputs": [
    {
     "data": {
      "image/png": "[encoded data removed]",
      "text/plain": [
       "<Figure size 432x288 with 1 Axes>"
      ]
     },
     "metadata": {},
     "output_type": "display_data"
    }
   ],
   "source": [
    "## Use this and additional cells to collect all of the trip times as a list ##\n",
    "## and then use pyplot functions to generate a histogram of trip times.     ##\n",
    "city_info = {'Washington':'./data/Washington-2016-Summary.csv',\n",
    "             'Chicago': './data/Chicago-2016-Summary.csv',\n",
    "             'NYC': './data/NYC-2016-Summary.csv'}\n",
    "\n",
    "n_durations = trip_durations(city_info ['Washington'])\n",
    "plt.hist(n_durations, bins=20, range=[0,100], density=False,facecolor='g',alpha=0.75)\n",
    "plt.title('Distribution of Trip Durations (Washington)')\n",
    "plt.xlabel('Duration (m)')\n",
    "plt.ylabel('No of Trips')\n",
    "plt.grid(True)\n",
    "plt.show()\n"
   ]
  },
  {
   "cell_type": "markdown",
   "metadata": {},
   "source": [
    "If you followed the use of the `.hist()` and `.show()` functions exactly like in the example, you're probably looking at a plot that's completely unexpected. The plot consists of one extremely tall bar on the left, maybe a very short second bar, and a whole lot of empty space in the center and right. Take a look at the duration values on the x-axis. This suggests that there are some highly infrequent outliers in the data. Instead of reprocessing the data, you will use additional parameters with the `.hist()` function to limit the range of data that is plotted. Documentation for the function can be found [[here]](https://matplotlib.org/devdocs/api/_as_gen/matplotlib.pyplot.hist.html#matplotlib.pyplot.hist).\n",
    "\n",
    "**Question 5**: Use the parameters of the `.hist()` function to plot the distribution of trip times for the Subscribers in your selected city. Do the same thing for only the Customers. Add limits to the plots so that only trips of duration less than 75 minutes are plotted. As a bonus, set the plots up so that bars are in five-minute wide intervals. For each group, where is the peak of each distribution? How would you describe the shape of each distribution?\n",
    "\n",
    "**Answer**: We have analyzed data for Washington. We have plotted two distributions for customers and subscribers. For customers peak is between range 15 to 25 minutes, while for subscribers peak is between range 5 to 10 minutes"
   ]
  },
  {
   "cell_type": "code",
   "execution_count": 25,
   "metadata": {},
   "outputs": [
    {
     "data": {
      "image/png": "[encoded data removed]",
      "text/plain": [
       "<Figure size 432x288 with 1 Axes>"
      ]
     },
     "metadata": {},
     "output_type": "display_data"
    },
    {
     "data": {
      "image/png": "[encoded data removed]",
      "text/plain": [
       "<Figure size 432x288 with 1 Axes>"
      ]
     },
     "metadata": {},
     "output_type": "display_data"
    }
   ],
   "source": [
    "## Use this and additional cells to answer Question 5. ##\n",
    "city_info = {'Washington':'./data/Washington-2016-Summary.csv',\n",
    "             'Chicago': './data/Chicago-2016-Summary.csv',\n",
    "             'NYC': './data/NYC-2016-Summary.csv'}\n",
    "\n",
    "n_customer_durations = trip_durations(city_info ['Washington'], usertype ='Customer', limit=75)\n",
    "n_subscriber_durations = trip_durations(city_info ['Washington'], usertype ='Subscriber', limit=75)\n",
    "\n",
    "plt.hist(n_customer_durations, bins=20, range=[0,100], density=False,facecolor='g',alpha=0.75)\n",
    "plt.title('Distribution of Trip Durations for Customers (Washington)')\n",
    "plt.xlabel('Duration (m)')\n",
    "plt.ylabel('No of Trips')\n",
    "plt.grid(True)\n",
    "plt.show()\n",
    "\n",
    "plt.hist(n_subscriber_durations, bins=20, range=[0,100], density=False,facecolor='r',alpha=0.75)\n",
    "plt.title('Distribution of Trip Durations for Subscribers (Washington)')\n",
    "plt.xlabel('Duration (m)')\n",
    "plt.ylabel('No of Trips')\n",
    "plt.grid(True)\n",
    "plt.show()\n"
   ]
  },
  {
   "cell_type": "markdown",
   "metadata": {
    "collapsed": true
   },
   "source": [
    "<a id='eda_continued'></a>\n",
    "## Performing Your Own Analysis\n",
    "\n",
    "So far, you've performed an initial exploration into the data available. You have compared the relative volume of trips made between three U.S. cities and the ratio of trips made by Subscribers and Customers. For one of these cities, you have investigated differences between Subscribers and Customers in terms of how long a typical trip lasts. Now it is your turn to continue the exploration in a direction that you choose. Here are a few suggestions for questions to explore:\n",
    "\n",
    "- How does ridership differ by month or season? Which month / season has the highest ridership? Does the ratio of Subscriber trips to Customer trips change depending on the month or season?\n",
    "- Is the pattern of ridership different on the weekends versus weekdays? On what days are Subscribers most likely to use the system? What about Customers? Does the average duration of rides change depending on the day of the week?\n",
    "- During what time of day is the system used the most? Is there a difference in usage patterns for Subscribers and Customers?\n",
    "\n",
    "If any of the questions you posed in your answer to question 1 align with the bullet points above, this is a good opportunity to investigate one of them. As part of your investigation, you will need to create a visualization. If you want to create something other than a histogram, then you might want to consult the [Pyplot documentation](https://matplotlib.org/devdocs/api/pyplot_summary.html). In particular, if you are plotting values across a categorical variable (e.g. city, user type), a bar chart will be useful. The [documentation page for `.bar()`](https://matplotlib.org/devdocs/api/_as_gen/matplotlib.pyplot.bar.html#matplotlib.pyplot.bar) includes links at the bottom of the page with examples for you to build off of for your own use.\n",
    "\n",
    "**Question 6**: Continue the investigation by exploring another question that could be answered by the data available. Document the question you want to explore below. Your investigation should involve at least two variables and should compare at least two groups. You should also use at least one visualization as part of your explorations.\n",
    "\n",
    "**Answer**: We have analyzed pattern of ridership on weekdays and weekend for city Chicago. Weekdays has more rides than weekend, which is fair as weekdays has more days than weekend.Though average trip length and proportion of trips on weekend, more than 30 minutes, is greater than of weekdays. Subscribers has more trips than weekend though customers have similar number trips on weekend and weekdays."
   ]
  },
  {
   "cell_type": "code",
   "execution_count": 40,
   "metadata": {},
   "outputs": [],
   "source": [
    "def get_days():\n",
    "    \"\"\"\n",
    "    This function returns dictionary of days\n",
    "    \"\"\"    \n",
    "    days = {\n",
    "        'Monday': 1,\n",
    "        'Tuesday': 2,\n",
    "        'Wednesday': 3,\n",
    "        'Thursday': 4,\n",
    "        'Friday': 5,\n",
    "        'Saturday': 6,\n",
    "        'Sunday': 7}\n",
    "    return days\n",
    "\n",
    "def trip_day_stats(filename, usertype=None):\n",
    "    \"\"\"\n",
    "    This function reads in a file with trip data and reports average duration\n",
    "    and proportion of trip longer than 30 mins.\n",
    "    \"\"\"\n",
    "    with open(filename, 'r') as f_in:\n",
    "        # set up csv reader object\n",
    "        trip_reader = csv.DictReader(f_in)\n",
    "        n_durations_weekend =[]\n",
    "        n_durations_weekday =[]\n",
    "        days= get_days()\n",
    "                \n",
    "        for row in trip_reader:\n",
    "            trip_duration = float(row ['duration'])\n",
    "            if usertype:                \n",
    "                if row['user_type'] == usertype:                    \n",
    "                    if row['day_of_week'] in list(days.keys())[-2:]:\n",
    "                        n_durations_weekend.append(trip_duration)\n",
    "                    else:\n",
    "                        n_durations_weekday.append(trip_duration)                                \n",
    "            else:\n",
    "                if row['day_of_week'] in list(days.keys())[-2:]:\n",
    "                    n_durations_weekend.append(trip_duration)\n",
    "                else:\n",
    "                    n_durations_weekday.append(trip_duration)\n",
    "        \n",
    "        n_total_weekend, n_average_weekend = get_average(n_durations_weekend)\n",
    "        n_total_weekday, n_average_weekday = get_average(n_durations_weekday)\n",
    "\n",
    "        n_proportion_30_weekend = get_overtime_proportion(n_durations_weekend)\n",
    "        n_proportion_30_weekday = get_overtime_proportion(n_durations_weekday)\n",
    "\n",
    "        return n_total_weekend,n_average_weekend, n_proportion_30_weekend, n_total_weekday, \\\n",
    "            n_average_weekday, n_proportion_30_weekday\n",
    "        \n",
    "def trip_day_durations(filename, usertype=None):\n",
    "    \"\"\"\n",
    "    This function reads in a file with trip data and reports average duration\n",
    "    and proportion of trip longer than 30 mins.\n",
    "    \"\"\"\n",
    "    with open(filename, 'r') as f_in:\n",
    "        # set up csv reader object\n",
    "        trip_reader = csv.DictReader(f_in)\n",
    "        n_durations_weekend =[]\n",
    "        n_durations_weekday =[]\n",
    "        days= get_days()\n",
    "                \n",
    "        for row in trip_reader:\n",
    "            trip_duration = float(row ['duration'])\n",
    "            if usertype:                \n",
    "                if row['user_type'] == usertype:                    \n",
    "                    if row['day_of_week'] in list(days.keys())[-2:]:\n",
    "                        n_durations_weekend.append(trip_duration)\n",
    "                    else:\n",
    "                        n_durations_weekday.append(trip_duration)                                \n",
    "            else:\n",
    "                if row['day_of_week'] in list(days.keys())[-2:]:\n",
    "                    n_durations_weekend.append(trip_duration)\n",
    "                else:\n",
    "                    n_durations_weekday.append(trip_duration)\n",
    "        \n",
    "    return n_durations_weekend, n_durations_weekday\n",
    "        "
   ]
  },
  {
   "cell_type": "code",
   "execution_count": 41,
   "metadata": {},
   "outputs": [
    {
     "name": "stdout",
     "output_type": "stream",
     "text": [
      "City: Chicago - Weekend Stats \n",
      "Total trips: 19581\n",
      "Average trip length: 21.0011\n",
      "Proportion over 30 mins: 0.1495\n",
      "\n",
      "City: Chicago - Weekdays Stats \n",
      "Total trips: 52550\n",
      "Average trip length: 14.9102\n",
      "Proportion over 30 mins: 0.0586\n",
      "\n"
     ]
    }
   ],
   "source": [
    "## Use this and additional cells to continue to explore the dataset. ##\n",
    "## Once you have performed your exploration, document your findings  ##\n",
    "## in the Markdown cell above.                                       ##\n",
    "city_info = {'Washington':'./data/Washington-2016-Summary.csv',\n",
    "             'Chicago': './data/Chicago-2016-Summary.csv',\n",
    "             'NYC': './data/NYC-2016-Summary.csv'}\n",
    "\n",
    "   \n",
    "n_total_weekend,n_average_weekend, n_proportion_30_weekend, n_total_weekday, n_average_weekday, n_proportion_30_weekday \\\n",
    "    = trip_day_stats(city_info['Chicago'])\n",
    "\n",
    "print (\"City: {0} - Weekend Stats \".format('Chicago'))\n",
    "print (\"Total trips: {0}\".format(n_total_weekend))\n",
    "print (\"Average trip length: {0}\".format(n_average_weekend))\n",
    "print (\"Proportion over 30 mins: {0}\".format(n_proportion_30_weekend))\n",
    "print ()\n",
    "\n",
    "print (\"City: {0} - Weekdays Stats \".format('Chicago'))\n",
    "print (\"Total trips: {0}\".format(n_total_weekday))\n",
    "print (\"Average trip length: {0}\".format(n_average_weekday))\n",
    "print (\"Proportion over 30 mins: {0}\".format(n_proportion_30_weekday))\n",
    "print ()"
   ]
  },
  {
   "cell_type": "code",
   "execution_count": 42,
   "metadata": {},
   "outputs": [
    {
     "name": "stdout",
     "output_type": "stream",
     "text": [
      "City: Chicago - Weekend Stats (Subscribers)\n",
      "Total trips: 11048\n",
      "Average trip length: 13.2072\n",
      "Proportion over 30 mins: 0.0366\n",
      "\n",
      "City: Chicago - Weekdays Stats (Subscribers)\n",
      "Total trips: 43934\n",
      "Average trip length: 11.7805\n",
      "Proportion over 30 mins: 0.0176\n",
      "\n"
     ]
    }
   ],
   "source": [
    "n_total_weekend,n_average_weekend, n_proportion_30_weekend, n_total_weekday, n_average_weekday, n_proportion_30_weekday \\\n",
    "    = trip_day_stats(city_info['Chicago'], 'Subscriber')\n",
    "\n",
    "print (\"City: {0} - Weekend Stats (Subscribers)\".format('Chicago'))\n",
    "print (\"Total trips: {0}\".format(n_total_weekend))\n",
    "print (\"Average trip length: {0}\".format(n_average_weekend))\n",
    "print (\"Proportion over 30 mins: {0}\".format(n_proportion_30_weekend))\n",
    "print ()\n",
    "\n",
    "print (\"City: {0} - Weekdays Stats (Subscribers)\".format('Chicago'))\n",
    "print (\"Total trips: {0}\".format(n_total_weekday))\n",
    "print (\"Average trip length: {0}\".format(n_average_weekday))\n",
    "print (\"Proportion over 30 mins: {0}\".format(n_proportion_30_weekday))\n",
    "print ()"
   ]
  },
  {
   "cell_type": "code",
   "execution_count": 43,
   "metadata": {},
   "outputs": [
    {
     "name": "stdout",
     "output_type": "stream",
     "text": [
      "City: Chicago - Weekend Stats (Customers) \n",
      "Total trips: 8533\n",
      "Average trip length: 31.0921\n",
      "Proportion over 30 mins: 0.2958\n",
      "\n",
      "City: Chicago - Weekdays Stats \n",
      "Total trips: 8616\n",
      "Average trip length: 30.8685\n",
      "Proportion over 30 mins: 0.2681\n",
      "\n"
     ]
    }
   ],
   "source": [
    "n_total_weekend,n_average_weekend, n_proportion_30_weekend, n_total_weekday, n_average_weekday, n_proportion_30_weekday \\\n",
    "    = trip_day_stats(city_info['Chicago'], 'Customer')\n",
    "\n",
    "print (\"City: {0} - Weekend Stats (Customers) \".format('Chicago'))\n",
    "print (\"Total trips: {0}\".format(n_total_weekend))\n",
    "print (\"Average trip length: {0}\".format(n_average_weekend))\n",
    "print (\"Proportion over 30 mins: {0}\".format(n_proportion_30_weekend))\n",
    "print ()\n",
    "\n",
    "print (\"City: {0} - Weekdays Stats \".format('Chicago'))\n",
    "print (\"Total trips: {0}\".format(n_total_weekday))\n",
    "print (\"Average trip length: {0}\".format(n_average_weekday))\n",
    "print (\"Proportion over 30 mins: {0}\".format(n_proportion_30_weekday))\n",
    "print ()"
   ]
  },
  {
   "cell_type": "code",
   "execution_count": 44,
   "metadata": {},
   "outputs": [
    {
     "data": {
      "image/png": "[encoded data removed]",
      "text/plain": [
       "<Figure size 432x288 with 1 Axes>"
      ]
     },
     "metadata": {},
     "output_type": "display_data"
    },
    {
     "data": {
      "image/png": "[encoded data removed]",
      "text/plain": [
       "<Figure size 432x288 with 1 Axes>"
      ]
     },
     "metadata": {},
     "output_type": "display_data"
    }
   ],
   "source": [
    "n_durations_weekend, n_durations_weekday = trip_day_durations (city_info ['Chicago'])\n",
    "\n",
    "plt.hist(n_durations_weekend, bins=20, range=[0,100], density=False,facecolor='g',alpha=0.75)\n",
    "plt.title('Distribution of Trip Durations on Weekends')\n",
    "plt.xlabel('Duration (m)')\n",
    "plt.ylabel('No of Trips')\n",
    "plt.grid(True)\n",
    "plt.show()\n",
    "\n",
    "plt.hist(n_durations_weekday, bins=20, range=[0,100], density=False,facecolor='r',alpha=0.75)\n",
    "plt.title('Distribution of Trip Durations on Weekdays')\n",
    "plt.xlabel('Duration (m)')\n",
    "plt.ylabel('No of Trips')\n",
    "plt.grid(True)\n",
    "plt.show()\n"
   ]
  },
  {
   "cell_type": "markdown",
   "metadata": {},
   "source": [
    "<a id='conclusions'></a>\n",
    "## Conclusions\n",
    "\n",
    "Congratulations on completing the project! This is only a sampling of the data analysis process: from generating questions, wrangling the data, and to exploring the data. Normally, at this point in the data analysis process, you might want to draw conclusions about the data by performing a statistical test or fitting the data to a model for making predictions. There are also a lot of potential analyses that could be performed on the data which are not possible with only the data provided. For example, detailed location data has not been investigated. Where are the most commonly used docks? What are the most common routes? As another example, weather has potential to have a large impact on daily ridership. How much is ridership impacted when there is rain or snow? Are subscribers or customers affected more by changes in weather?\n",
    "\n",
    "**Question 7**: Putting the bike share data aside, think of a topic or field of interest where you would like to be able to apply the techniques of data science. What would you like to be able to learn from your chosen subject?\n",
    "\n",
    "**Answer**: I would like to apply data science techniques, on surveys done during pre and post polls during elections and based on that prediction of voting patterns.\n",
    "\n",
    "> **Tip**: If we want to share the results of our analysis with others, we aren't limited to giving them a copy of the jupyter Notebook (.ipynb) file. We can also export the Notebook output in a form that can be opened even for those without Python installed. From the **File** menu in the upper left, go to the **Download as** submenu. You can then choose a different format that can be viewed more generally, such as HTML (.html) or\n",
    "PDF (.pdf). You may need additional packages or software to perform these exports.\n",
    "\n",
    "> If you are working on this project via the Project Notebook page in the classroom, you can also submit this project directly from the workspace. **Before you do that**, you should save an HTML copy of the completed project to the workspace by running the code cell below. If it worked correctly, the output code should be a 0, and if you click on the jupyter icon in the upper left, you should see your .html document in the workspace directory. Alternatively, you can download the .html copy of your report following the steps in the previous paragraph, then _upload_ the report to the directory (by clicking the jupyter icon).\n",
    "\n",
    "> Either way, once you've gotten the .html report in your workspace, you can complete your submission by clicking on the \"Submit Project\" button to the lower-right hand side of the workspace."
   ]
  },
  {
   "cell_type": "code",
   "execution_count": 45,
   "metadata": {},
   "outputs": [
    {
     "data": {
      "text/plain": [
       "0"
      ]
     },
     "execution_count": 45,
     "metadata": {},
     "output_type": "execute_result"
    }
   ],
   "source": [
    "from subprocess import call\n",
    "call(['python', '-m', 'nbconvert', 'Bike_Share_Analysis.ipynb'])"
   ]
  },
  {
   "cell_type": "code",
   "execution_count": null,
   "metadata": {},
   "outputs": [],
   "source": []
  }
 ],
 "metadata": {
  "anaconda-cloud": {},
  "kernelspec": {
   "display_name": "Python [conda env:Anaconda3]",
   "language": "python",
   "name": "conda-env-Anaconda3-py"
  },
  "language_info": {
   "codemirror_mode": {
    "name": "ipython",
    "version": 3
   },
   "file_extension": ".py",
   "mimetype": "text/x-python",
   "name": "python",
   "nbconvert_exporter": "python",
   "pygments_lexer": "ipython3",
   "version": "3.6.5"
  }
 },
 "nbformat": 4,
 "nbformat_minor": 1
}
